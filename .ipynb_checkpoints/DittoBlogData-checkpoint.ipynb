{
 "cells": [
  {
   "cell_type": "code",
   "execution_count": 53,
   "metadata": {
    "collapsed": false
   },
   "outputs": [],
   "source": [
    "import requests as rq\n",
    "import pandas as pd\n",
    "import json\n",
    "from itertools import izip"
   ]
  },
  {
   "cell_type": "code",
   "execution_count": 54,
   "metadata": {
    "collapsed": false
   },
   "outputs": [],
   "source": [
    "Brands = [{'brand':'Cheerios_Ditto','filters':['BRAND:cheerios','MATCH_QUALITY:high']},\n",
    "          {'brand':'Cheerios_Twitter','filters':['E_TOPIC:cheerios']},\n",
    "         {'brand':'Yoplait_Ditto','filters':['BRAND:yoplait','MATCH_QUALITY:high']},\n",
    "          {'brand':'Yoplait_Twitter','filters':['E_TOPIC:Yoplait']},\n",
    "         {'brand':'NatureValley_Ditto','filters':['BRAND:NATURE_VALLEY','MATCH_QUALITY:high']},\n",
    "          {'brand':'NatureValley_Twitter','filters':['E_TOPIC:\"nature valley\"']},\n",
    "         {'brand':'BettyCrocker_Ditto','filters':['BRAND:betty_crocker','MATCH_QUALITY:high']},\n",
    "          {'brand':'BettyCrocker_Twitter','filters':['E_TOPIC:bettycrocker']},\n",
    "         {'brand':'Pillsbury_Ditto','filters':['BRAND:pillsbury','MATCH_QUALITY:high']},\n",
    "          {'brand':'Pillsbury_Twitter','filters':['E_TOPIC:pillsbury']},\n",
    "         {'brand':'Totinos_Ditto','filters':['BRAND:totinos','MATCH_QUALITY:high']},\n",
    "         {'brand':'Totinos_Twitter','filters':['E_TOPIC:totinos']}]\n",
    "def themeApiCalls(filters):\n",
    "\theaders = {'content-type': 'application/json'}\n",
    "\tauthDexter= ('dheepan.dexter','Recalitrantkitten5')\n",
    "\turl = 'https://dexter.clarabridge.net/cbrestfulapi/v1/report'\n",
    "\tpayload = {'additionalFilters': filters['filters'],\n",
    "\t 'additionalMetrics': [],\n",
    "\t 'attribute': 1,\n",
    "\t 'count': '50',\n",
    "\t 'direction': 'DESC',\n",
    "\t 'filters': [],\n",
    "\t 'modelId': 1500535,\n",
    "\t 'nodeName': 'Attibutes',\n",
    "\t 'page': {'lookAheadLimit': 50},\n",
    "\t 'project': 1467579,\n",
    "\t 'projectName': 'DittoBlog',\n",
    "\t 'reportType': 'TOPIC',\n",
    "\t 'sample': 'full',\n",
    "\t 'selectedNodes': {},\n",
    "\t 'sort': 'volume',\n",
    "\t 'topBottom': 'Top',\n",
    "\t 'widgetType': 'standard'}\n",
    "\t\n",
    "\tapicall = rq.post(url,auth=authDexter,headers=headers,data=json.dumps(payload))\n",
    "\tprint apicall.status_code\n",
    "\tdataframe = pd.read_json(json.dumps(apicall.json()['data']))\n",
    "\tdataframe = dataframe[['name','percentOfVolume','sentiment']]\n",
    "\tdataframe = dataframe.set_index(['name'])\n",
    "\tdataframe.columns = [filters['brand']+col for col in dataframe.columns.values]\n",
    "\treturn dataframe\n",
    "\n",
    "def pairwise(iterable):\n",
    "    \"s -> (s0, s1), (s2, s3), (s4, s5), ...\"\n",
    "    a = iter(iterable)\n",
    "    return izip(a, a)"
   ]
  },
  {
   "cell_type": "code",
   "execution_count": 64,
   "metadata": {
    "collapsed": false
   },
   "outputs": [
    {
     "name": "stdout",
     "output_type": "stream",
     "text": [
      "200\n",
      "200\n",
      "200\n",
      "200\n",
      "200\n",
      "200\n",
      "200\n",
      "200\n",
      "200\n",
      "200\n",
      "200\n",
      "200\n"
     ]
    }
   ],
   "source": [
    "dfs = [themeApiCalls(brand) for brand in Brands]"
   ]
  },
  {
   "cell_type": "code",
   "execution_count": 67,
   "metadata": {
    "collapsed": false
   },
   "outputs": [
    {
     "data": {
      "text/plain": [
       "6"
      ]
     },
     "execution_count": 67,
     "metadata": {},
     "output_type": "execute_result"
    }
   ],
   "source": [
    "dfsCouples =[]\n",
    "brandCouples = []\n",
    "for x, y in pairwise(dfs):\n",
    "   dfsCouples.append(x.join(y))\n",
    "\n",
    "for x, y in pairwise(Brands):\n",
    "    brandCouples.append([x['brand'],y['brand']])\n",
    "brandCouples  \n",
    "len(dfsCouples)"
   ]
  },
  {
   "cell_type": "code",
   "execution_count": 68,
   "metadata": {
    "collapsed": false
   },
   "outputs": [],
   "source": [
    "for i,df in list(enumerate(brandCouples)):\n",
    "    dfsCouples[i]['percentGain'] = (dfsCouples[i][df[1]+'percentOfVolume']-dfsCouples[i][df[0]+'percentOfVolume'])/dfsCouples[i][df[0]+'percentOfVolume']\n",
    "    dfsCouples[i]['sentimentDelta'] = dfsCouples[i][df[1]+'sentiment']-dfsCouples[i][df[0]+'sentiment']"
   ]
  },
  {
   "cell_type": "code",
   "execution_count": 69,
   "metadata": {
    "collapsed": false
   },
   "outputs": [
    {
     "data": {
      "text/plain": [
       "<Workbook 'Workbook3'>"
      ]
     },
     "execution_count": 69,
     "metadata": {},
     "output_type": "execute_result"
    }
   ],
   "source": [
    "import xlwings\n",
    "xlwings.Workbook.active()"
   ]
  },
  {
   "cell_type": "code",
   "execution_count": 70,
   "metadata": {
    "collapsed": false
   },
   "outputs": [],
   "source": [
    "for df in dfsCouples:\n",
    "    xlwings.Sheet.add()\n",
    "    xlwings.Range('A1').value = df\n",
    "    "
   ]
  },
  {
   "cell_type": "code",
   "execution_count": null,
   "metadata": {
    "collapsed": true
   },
   "outputs": [],
   "source": []
  }
 ],
 "metadata": {
  "kernelspec": {
   "display_name": "Python 2",
   "language": "python",
   "name": "python2"
  },
  "language_info": {
   "codemirror_mode": {
    "name": "ipython",
    "version": 2
   },
   "file_extension": ".py",
   "mimetype": "text/x-python",
   "name": "python",
   "nbconvert_exporter": "python",
   "pygments_lexer": "ipython2",
   "version": "2.7.10"
  }
 },
 "nbformat": 4,
 "nbformat_minor": 0
}
